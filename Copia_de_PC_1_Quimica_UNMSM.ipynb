{
  "nbformat": 4,
  "nbformat_minor": 0,
  "metadata": {
    "colab": {
      "provenance": [],
      "include_colab_link": true
    },
    "kernelspec": {
      "name": "python3",
      "display_name": "Python 3"
    },
    "language_info": {
      "name": "python"
    },
    "widgets": {
      "application/vnd.jupyter.widget-state+json": {
        "d4691835f4474884829213796343340f": {
          "model_module": "faerun-notebook",
          "model_name": "SmilesDrawerModel",
          "model_module_version": "^0.1.5",
          "state": {
            "_dom_classes": [],
            "_model_module": "faerun-notebook",
            "_model_module_version": "^0.1.5",
            "_model_name": "SmilesDrawerModel",
            "_view_count": null,
            "_view_module": "faerun-notebook",
            "_view_module_version": "^0.1.5",
            "_view_name": "SmilesDrawerView",
            "background": "#1e1e1e",
            "border": true,
            "layout": "IPY_MODEL_35b7ce94b6e84d4c985918e50984dcd7",
            "options": {
              "scale": 1.25
            },
            "output": "svg",
            "theme": "dark",
            "value": [
              [
                "Rxn",
                "C(C1C(C(C(C(O1)O)O)O)O)O.O=O>>C(=O)=O.O"
              ]
            ]
          }
        },
        "35b7ce94b6e84d4c985918e50984dcd7": {
          "model_module": "@jupyter-widgets/base",
          "model_name": "LayoutModel",
          "model_module_version": "1.2.0",
          "state": {
            "_model_module": "@jupyter-widgets/base",
            "_model_module_version": "1.2.0",
            "_model_name": "LayoutModel",
            "_view_count": null,
            "_view_module": "@jupyter-widgets/base",
            "_view_module_version": "1.2.0",
            "_view_name": "LayoutView",
            "align_content": null,
            "align_items": null,
            "align_self": null,
            "border": null,
            "bottom": null,
            "display": null,
            "flex": null,
            "flex_flow": null,
            "grid_area": null,
            "grid_auto_columns": null,
            "grid_auto_flow": null,
            "grid_auto_rows": null,
            "grid_column": null,
            "grid_gap": null,
            "grid_row": null,
            "grid_template_areas": null,
            "grid_template_columns": null,
            "grid_template_rows": null,
            "height": null,
            "justify_content": null,
            "justify_items": null,
            "left": null,
            "margin": null,
            "max_height": null,
            "max_width": null,
            "min_height": null,
            "min_width": null,
            "object_fit": null,
            "object_position": null,
            "order": null,
            "overflow": null,
            "overflow_x": null,
            "overflow_y": null,
            "padding": null,
            "right": null,
            "top": null,
            "visibility": null,
            "width": null
          }
        },
        "5e5ee503da474d32bc87436e2c3db49b": {
          "model_module": "faerun-notebook",
          "model_name": "SmilesDrawerModel",
          "model_module_version": "^0.1.5",
          "state": {
            "_dom_classes": [],
            "_model_module": "faerun-notebook",
            "_model_module_version": "^0.1.5",
            "_model_name": "SmilesDrawerModel",
            "_view_count": null,
            "_view_module": "faerun-notebook",
            "_view_module_version": "^0.1.5",
            "_view_name": "SmilesDrawerView",
            "background": "#1e1e1e",
            "border": true,
            "layout": "IPY_MODEL_2306dd1172d2455a8a18e9ed92410b93",
            "options": {
              "scale": 1.25
            },
            "output": "svg",
            "theme": "dark",
            "value": [
              [
                "Rxn",
                "C(C1C(C(C(C(O1)O)O)O)O)O.O=O"
              ]
            ]
          }
        },
        "2306dd1172d2455a8a18e9ed92410b93": {
          "model_module": "@jupyter-widgets/base",
          "model_name": "LayoutModel",
          "model_module_version": "1.2.0",
          "state": {
            "_model_module": "@jupyter-widgets/base",
            "_model_module_version": "1.2.0",
            "_model_name": "LayoutModel",
            "_view_count": null,
            "_view_module": "@jupyter-widgets/base",
            "_view_module_version": "1.2.0",
            "_view_name": "LayoutView",
            "align_content": null,
            "align_items": null,
            "align_self": null,
            "border": null,
            "bottom": null,
            "display": null,
            "flex": null,
            "flex_flow": null,
            "grid_area": null,
            "grid_auto_columns": null,
            "grid_auto_flow": null,
            "grid_auto_rows": null,
            "grid_column": null,
            "grid_gap": null,
            "grid_row": null,
            "grid_template_areas": null,
            "grid_template_columns": null,
            "grid_template_rows": null,
            "height": null,
            "justify_content": null,
            "justify_items": null,
            "left": null,
            "margin": null,
            "max_height": null,
            "max_width": null,
            "min_height": null,
            "min_width": null,
            "object_fit": null,
            "object_position": null,
            "order": null,
            "overflow": null,
            "overflow_x": null,
            "overflow_y": null,
            "padding": null,
            "right": null,
            "top": null,
            "visibility": null,
            "width": null
          }
        }
      }
    }
  },
  "cells": [
    {
      "cell_type": "markdown",
      "metadata": {
        "id": "view-in-github",
        "colab_type": "text"
      },
      "source": [
        "<a href=\"https://colab.research.google.com/github/LeonardoOliva4/Practica-Calificada-1/blob/main/Copia_de_PC_1_Quimica_UNMSM.ipynb\" target=\"_parent\"><img src=\"https://colab.research.google.com/assets/colab-badge.svg\" alt=\"Open In Colab\"/></a>"
      ]
    },
    {
      "cell_type": "markdown",
      "source": [
        "$$\\Large \\textit{UNMSM | Química}$$\n",
        "$$\\large \\textbf{PC Nº1 | Materia y clasificación}$$\n",
        "\n",
        "_Profesor: Jesus Alvarado Huayhuaz_"
      ],
      "metadata": {
        "id": "sDJAjbaQOj4x"
      }
    },
    {
      "cell_type": "markdown",
      "source": [
        "Todas las indicaciones para la presentación de la práctica son explicadas en clase y brindadas en el material de enunciado de preguntas en formato PDF."
      ],
      "metadata": {
        "id": "_DsTzWLoP7Fy"
      }
    },
    {
      "cell_type": "markdown",
      "source": [
        "## Pregunta 1: Sobre el ABC de python (4 puntos)"
      ],
      "metadata": {
        "id": "obD7c2igOD6t"
      }
    },
    {
      "cell_type": "markdown",
      "source": [
        "Durante la semana de revisión del material \"ABC de python\", reflexiona sobre qué conceptos aprendiste con claridad y cuáles consideras los más desafiantes. A continuación resuelve los siguiente ejercicios, puedes ayudarte del material en http://bit.ly/3YKICSZ."
      ],
      "metadata": {
        "id": "emt93S7dL7QH"
      }
    },
    {
      "cell_type": "code",
      "source": [
        "# Imprime la versión de python que usas y las palabras reservadas de python para esa versión.\n",
        "import sys\n",
        "import keyword\n",
        "version_python = sys.version.split()[0]\n",
        "print(\"Python Version:\", version_python)\n",
        "print(\"Python Keywords:\", keyword.kwlist)"
      ],
      "metadata": {
        "id": "6mJvqMN0LTU8",
        "colab": {
          "base_uri": "https://localhost:8080/"
        },
        "outputId": "fe710b2b-e247-4c5b-b55d-bb1013426af8"
      },
      "execution_count": 21,
      "outputs": [
        {
          "output_type": "stream",
          "name": "stdout",
          "text": [
            "Python Version: 3.10.12\n",
            "Python Keywords: ['False', 'None', 'True', 'and', 'as', 'assert', 'async', 'await', 'break', 'class', 'continue', 'def', 'del', 'elif', 'else', 'except', 'finally', 'for', 'from', 'global', 'if', 'import', 'in', 'is', 'lambda', 'nonlocal', 'not', 'or', 'pass', 'raise', 'return', 'try', 'while', 'with', 'yield']\n"
          ]
        }
      ]
    },
    {
      "cell_type": "code",
      "source": [
        "# Crea una matriz de 3x3 e imprime la suma de los elementos en su diagonal (traza).\n",
        "matriz = [\n",
        "    [5, 1, 5],\n",
        "    [6, 2, 1],\n",
        "    [9, 7, 6]]\n",
        "suma_traza = matriz[0][0] + matriz[1][1] + matriz[2][2]\n",
        "print(\"Matriz:\")\n",
        "for fila in matriz:\n",
        "    print(fila)\n",
        "print(\"Suma de la diagonal:\", suma_traza)"
      ],
      "metadata": {
        "id": "MxDzGypdLTXh",
        "colab": {
          "base_uri": "https://localhost:8080/"
        },
        "outputId": "bcc6ad34-f04f-4759-d697-e82cc79f6c20"
      },
      "execution_count": 3,
      "outputs": [
        {
          "output_type": "stream",
          "name": "stdout",
          "text": [
            "Matriz:\n",
            "[5, 1, 5]\n",
            "[6, 2, 1]\n",
            "[9, 7, 6]\n",
            "Suma de la diagonal: 13\n"
          ]
        }
      ]
    },
    {
      "cell_type": "code",
      "source": [
        "# Guarda como variable la masa atómica de los elementos C, H y O, e imprime la masa molecular del etanol.\n",
        "masa_atomica_C = 12.01\n",
        "masa_atomica_H = 1.008\n",
        "masa_atomica_O = 16.00\n",
        "num_atomos_C = 2\n",
        "num_atomos_H = 6\n",
        "num_atomos_O = 1\n",
        "masa_molecular_etanol = (num_atomos_C * masa_atomica_C) + (num_atomos_H * masa_atomica_H) + (num_atomos_O * masa_atomica_O)\n",
        "print(\"Masa molecular del etanol:\", masa_molecular_etanol)"
      ],
      "metadata": {
        "id": "MyhNX7JmLTSe",
        "colab": {
          "base_uri": "https://localhost:8080/"
        },
        "outputId": "5655234a-7d91-4cdd-f3ee-c2ac608d4570"
      },
      "execution_count": 5,
      "outputs": [
        {
          "output_type": "stream",
          "name": "stdout",
          "text": [
            "Masa molecular del etanol: 46.068\n"
          ]
        }
      ]
    },
    {
      "cell_type": "code",
      "source": [
        "# Busca la temperatura de fusión en Celsius de 5 metales y guárdalos en una lista. Imprime las temperaturas en Kelvin\n",
        "otros_metales_temperaturas = {\n",
        "    \"Mercurio\": -38.83,\n",
        "    \"Platino\": 1.768,\n",
        "    \"Cromo\": 1.907,\n",
        "    \"Vanadio\": 1.910,\n",
        "    \"Cobalto\": 1.495}\n",
        "temperaturas_kelvin_otros = []\n",
        "for metal, temp_celsius in otros_metales_temperaturas.items():\n",
        "    temp_kelvin = temp_celsius + 273.15\n",
        "    temperaturas_kelvin_otros.append((metal, temp_kelvin))\n",
        "for metal, temp_kelvin in temperaturas_kelvin_otros:\n",
        "    print(f\"Temperatura de fusión de {metal}: {temp_kelvin:.2f} K\")"
      ],
      "metadata": {
        "id": "NCOnJ0FwgLLc",
        "colab": {
          "base_uri": "https://localhost:8080/"
        },
        "outputId": "43370e64-0c0d-4f75-eacb-0eaf5c4154d7"
      },
      "execution_count": 26,
      "outputs": [
        {
          "output_type": "stream",
          "name": "stdout",
          "text": [
            "Temperatura de fusión de Mercurio: 234.32 K\n",
            "Temperatura de fusión de Platino: 274.92 K\n",
            "Temperatura de fusión de Cromo: 275.06 K\n",
            "Temperatura de fusión de Vanadio: 275.06 K\n",
            "Temperatura de fusión de Cobalto: 274.64 K\n"
          ]
        }
      ]
    },
    {
      "cell_type": "markdown",
      "source": [
        "## Pregunta 2: Operaciones (4 puntos)"
      ],
      "metadata": {
        "id": "epzOadagLfPi"
      }
    },
    {
      "cell_type": "markdown",
      "source": [
        "Escribe un programa que lea repetidamente elementos químicos en español hasta que el usuario introduzca “fin”. Una vez se haya introducido “fin”, muestra por pantalla (o sea imprime) el total de elementos ingresados. Si el usuario introduce cualquier otra cosa que no sea un elemento químico, detecta su fallo usando try y except, muestra un mensaje de error y pasa al siguiente elemento."
      ],
      "metadata": {
        "id": "MbAEOGPsjOWZ"
      }
    },
    {
      "cell_type": "code",
      "source": [
        "elementos_quimicos = []\n",
        "elementos_espanol = [\"helio\", \"sodio\", \"litio\", \"berilio\", \"boro\", \"aluminio\", \"nitrógeno\",\n",
        "    \"oxígeno\", \"flúor\", \"neón\", \"hidrógeno\", \"magnesio\", \"silicio\",\n",
        "    \"fósforo\", \"azufre\", \"cloro\", \"argón\", \"potasio\", \"calcio\", \"escandio\",\n",
        "    \"titanio\", \"vanadio\", \"cromo\", \"manganeso\", \"cobalto\", \"hierro\", \"níquel\",\n",
        "    \"cobre\", \"zinc\", \"arsénico\", \"selenio\", \"bromo\",\n",
        "    \"plata\", \"cadmio\", \"indio\", \"estaño\",\n",
        "    \"telurio\", \"yodo\", \"xenón\", \"cesio\", \"bario\", \"lantano\", \"cerio\",\n",
        "    \"holmio\", \"erbio\",\n",
        "    \"tantalio\", \"osmio\", \"iridio\", \"platino\", \"oro\", \"mercurio\",\n",
        "    \"talio\", \"plomo\", \"polonio\", \"astato\", \"radón\", \"francio\", \"radio\",\n",
        "    \"actinio\", \"uranio\", \"neptunio\", \"plutonio\"]\n",
        "while True:\n",
        "    elemento = input(\"Ingrese un elemento químico en español (o 'fin' para terminar): \")\n",
        "    if elemento.lower() == \"fin\":\n",
        "        break\n",
        "    elif elemento.lower() in elementos_espanol:\n",
        "        elementos_quimicos.append(elemento)\n",
        "    else:\n",
        "        print(\"Elemento químico inválido. Intente nuevamente.\")\n",
        "total_elementos = len(elementos_quimicos)\n",
        "print(\"Total de elementos ingresados:\", total_elementos)\n"
      ],
      "metadata": {
        "id": "gJGX0p5QLetj"
      },
      "execution_count": null,
      "outputs": []
    },
    {
      "cell_type": "markdown",
      "source": [
        "# Pregunta 3: Conservación de la masa (4 puntos)"
      ],
      "metadata": {
        "id": "8gxSHpD3LZsh"
      }
    },
    {
      "cell_type": "code",
      "source": [],
      "metadata": {
        "id": "rVZnlm9ZnB5A"
      },
      "execution_count": null,
      "outputs": []
    },
    {
      "cell_type": "markdown",
      "source": [
        "### Código necesario para generar la imagen"
      ],
      "metadata": {
        "id": "mMV9c3hDl7KL"
      }
    },
    {
      "cell_type": "code",
      "source": [
        "!pip install faerun-notebook==0.1.5b0\n",
        "\n",
        "import ipywidgets as widgets\n",
        "from faerun_notebook import SmilesDrawer\n",
        "from google.colab import output\n",
        "output.enable_custom_widget_manager()"
      ],
      "metadata": {
        "id": "JgF8Ohtbky65"
      },
      "execution_count": null,
      "outputs": []
    },
    {
      "cell_type": "code",
      "source": [
        "smiles_structure = \"C(C1C(C(C(C(O1)O)O)O)O)O.O=O\"\n",
        "structure_widget = SmilesDrawer(value=[(\"Rxn\", smiles_structure)], theme='dark', background=\"#1e1e1e\", options={'scale': 1.25})\n",
        "display(structure_widget)"
      ],
      "metadata": {
        "colab": {
          "base_uri": "https://localhost:8080/",
          "height": 289,
          "referenced_widgets": [
            "5e5ee503da474d32bc87436e2c3db49b",
            "2306dd1172d2455a8a18e9ed92410b93"
          ]
        },
        "id": "ZNkoETQl7dlG",
        "outputId": "7a067acf-96da-4760-a432-a76ca39a8b9d"
      },
      "execution_count": 48,
      "outputs": [
        {
          "output_type": "display_data",
          "data": {
            "text/plain": [
              "SmilesDrawer(background='#1e1e1e', options={'scale': 1.25}, theme='dark', value=[('Rxn', 'C(C1C(C(C(C(O1)O)O)O…"
            ],
            "application/vnd.jupyter.widget-view+json": {
              "version_major": 2,
              "version_minor": 0,
              "model_id": "5e5ee503da474d32bc87436e2c3db49b"
            }
          },
          "metadata": {
            "application/vnd.jupyter.widget-view+json": {
              "colab": {
                "custom_widget_manager": {
                  "url": "https://ssl.gstatic.com/colaboratory-static/widgets/colab-cdn-widget-manager/b3e629b1971e1542/manager.min.js"
                }
              }
            }
          }
        }
      ]
    },
    {
      "cell_type": "markdown",
      "source": [
        "### Reacción química"
      ],
      "metadata": {
        "id": "5sLC10D_oSrV"
      }
    },
    {
      "cell_type": "markdown",
      "source": [
        "Demuestra cómo se cumple la conservación de la masa en la siguiente reacción química. Sugerencia: hacer un balance estequiométrico y luego emplear la masa molecular de reactivos y productos."
      ],
      "metadata": {
        "id": "OVRhAzaVmD86"
      }
    },
    {
      "cell_type": "code",
      "source": [
        "SmilesDrawer(value=[(\"Rxn\", \"C(C1C(C(C(C(O1)O)O)O)O)O.O=O>>C(=O)=O.O\")], theme='dark', background=\"#1e1e1e\", options={'scale': 1.25})"
      ],
      "metadata": {
        "colab": {
          "base_uri": "https://localhost:8080/",
          "height": 289,
          "referenced_widgets": [
            "d4691835f4474884829213796343340f",
            "35b7ce94b6e84d4c985918e50984dcd7"
          ]
        },
        "id": "CC0mAXWmnYyN",
        "outputId": "fb9a2a33-11fa-47cd-bffe-ce9c285db1d8"
      },
      "execution_count": null,
      "outputs": [
        {
          "output_type": "display_data",
          "data": {
            "text/plain": [
              "SmilesDrawer(background='#1e1e1e', options={'scale': 1.25}, theme='dark', value=[('Rxn', 'C(C1C(C(C(C(O1)O)O)O…"
            ],
            "application/vnd.jupyter.widget-view+json": {
              "version_major": 2,
              "version_minor": 0,
              "model_id": "d4691835f4474884829213796343340f"
            }
          },
          "metadata": {
            "application/vnd.jupyter.widget-view+json": {
              "colab": {
                "custom_widget_manager": {
                  "url": "https://ssl.gstatic.com/colaboratory-static/widgets/colab-cdn-widget-manager/b3e629b1971e1542/manager.min.js"
                }
              }
            }
          }
        }
      ]
    },
    {
      "cell_type": "code",
      "source": [
        "masa_glu = 180.16\n",
        "masa_oxi = 32.00\n",
        "masa_co2 = 44.01\n",
        "masa_agua = 18.02\n",
        "mols_glu = 1\n",
        "mols_oxi = 6\n",
        "masa_totl_reactivos = (mols_glu * masa_glu) + (mols_oxi * masa_oxi)\n",
        "mols_co2 = 6\n",
        "mols_agua = 6\n",
        "masa_totl_productos = (mols_co2 * masa_co2) + (mols_agua * masa_agua)\n",
        "print(\"Masa total de reactivos:\", masa_totl_reactivos)\n",
        "print(\"Masa total de productos:\", masa_totl_productos)\n",
        "\n",
        "if abs(masa_totl_reactivos - masa_totl_productos) < 0.1:\n",
        "    print(\"La conservación de la masa se cumple .\")\n",
        "else:\n",
        "    print(\"La conservación de la masa no se cumple.\")"
      ],
      "metadata": {
        "colab": {
          "base_uri": "https://localhost:8080/"
        },
        "id": "u11fqLhwsbtQ",
        "outputId": "214d83b1-3135-43d7-8b84-27049594d5ec"
      },
      "execution_count": 41,
      "outputs": [
        {
          "output_type": "stream",
          "name": "stdout",
          "text": [
            "Masa total de reactivos: 372.15999999999997\n",
            "Masa total de productos: 372.18\n",
            "La conservación de la masa se cumple .\n"
          ]
        }
      ]
    },
    {
      "cell_type": "markdown",
      "source": [
        "## Pregunta 4: Notación científica (4 puntos)"
      ],
      "metadata": {
        "id": "Rh-nAUiKhJNB"
      }
    },
    {
      "cell_type": "markdown",
      "source": [
        "Imprime las siguientes operaciones según la notación científica:\n",
        "\n",
        "(1) $1.321 \\times 10^{-4} + 8.5 \\times 10^{-2}$\n",
        "\n",
        "(2) $1.71 \\times 10^{3} - 2.01 \\times 10^{2}\\$\n",
        "\n",
        "(3) $(7.4 \\times 10^5)(7.2 \\times 10^4)$\n",
        "\n",
        "(4) $(7.4 \\times 10^5)/(7.2 \\times 10^4)$\n"
      ],
      "metadata": {
        "id": "NIkI45Xdqqnt"
      }
    },
    {
      "cell_type": "code",
      "source": [
        "\n",
        "notacion1 = (1.321e-4 + 8.5e-2)\n",
        "print(f\"(1) Resultado: {notacion1:.2e}\")\n",
        "\n",
        "notacion2 = (1.71e3 - 2.01e2)\n",
        "print(f\"(2) Resultado: {notacion2:.2e}\")\n",
        "\n",
        "notacion3 = (7.4e5) * (7.2e4)\n",
        "print(f\"(3) Resultado: {notacion3:.2e}\")\n",
        "\n",
        "notacion4 = (7.4e5) / (7.2e4)\n",
        "print(f\"(4) Resultado: {notacion4:.2e}\")"
      ],
      "metadata": {
        "colab": {
          "base_uri": "https://localhost:8080/"
        },
        "id": "RlKvWfxUrnfP",
        "outputId": "df6d9452-520a-43de-a976-fc4fa275d94b"
      },
      "execution_count": 30,
      "outputs": [
        {
          "output_type": "stream",
          "name": "stdout",
          "text": [
            "(1) Resultado: 8.51e-02\n",
            "(2) Resultado: 1.51e+03\n",
            "(3) Resultado: 5.33e+10\n",
            "(4) Resultado: 1.03e+01\n"
          ]
        }
      ]
    },
    {
      "cell_type": "markdown",
      "source": [
        "## Pregunta 5: Método científico (4 puntos)"
      ],
      "metadata": {
        "id": "CuzCcXJghR14"
      }
    },
    {
      "cell_type": "markdown",
      "source": [
        "Artículo: https://bit.ly/3surZ1W\n",
        "Leer el siguiente artículo y explica cómo es aplicado el método científico. Emplea como máximo 300 palabras."
      ],
      "metadata": {
        "id": "WngRSR-Rhmx1"
      }
    },
    {
      "cell_type": "markdown",
      "source": [
        "Los fragmentos presentan ejemplos de aplicación del método científico en diferentes contextos. En el primer caso, se analiza la afirmación inicial sobre LK-99, un supuesto superconductor a temperatura ambiente. Investigadores coreanos afirmaron esto, generando interés y replicación. Sin embargo, análisis más profundos, experimentos y pruebas revelaron que LK-99 no era un superconductor, sino que las propiedades eran resultado de impurezas y fenómenos distintos. Esto ejemplifica cómo la comunidad científica emplea replicación, análisis e interpretación para validar afirmaciones.\n",
        "\n",
        "En el segundo caso, se aborda el avance en la erradicación de la polio en Afganistán y Pakistán. A pesar de dudas previas, la constante aplicación del método científico, con observación, análisis y adaptación, ha llevado a progresos significativos en la lucha contra la enfermedad. El análisis de datos y la respuesta a desafíos sociales y políticos subrayan cómo la ciencia guía estrategias de salud pública.\n",
        "\n",
        "Ambos ejemplos subrayan la relevancia de basar decisiones y planificación en la ciencia. Ya sea evaluando propiedades de materiales o erradicando enfermedades, con esto, el método científico provee un enfoque riguroso para comprender y abordar fenómenos complejos.\n"
      ],
      "metadata": {
        "id": "36LKejzp8UHP"
      }
    }
  ]
}